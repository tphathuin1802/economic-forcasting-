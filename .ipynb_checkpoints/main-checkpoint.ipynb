{
 "cells": [
  {
   "cell_type": "markdown",
   "id": "3f588971-7096-4fe1-b18a-ab3002bf5e8b",
   "metadata": {},
   "source": [
    "<h1 style=\" text-align : center;  font-family: 'SF Mono'; color: purple;\"><b>MIDTERM CODING - ECONOMIC FORECASTING </b></h1>\n"
   ]
  },
  {
   "cell_type": "markdown",
   "id": "cf77ac47-de25-4d34-8833-a65bc889ef4b",
   "metadata": {},
   "source": [
    "#### DATA PREPROCESSING"
   ]
  },
  {
   "cell_type": "code",
   "execution_count": 52,
   "id": "c8c97d69-d665-462c-9609-fac31fc72597",
   "metadata": {},
   "outputs": [],
   "source": [
    "import pandas as pd\n",
    "import matplotlib.pyplot as plt\n",
    "plt.style.available\n",
    "plt.style.use(\"seaborn-v0_8-whitegrid\")"
   ]
  },
  {
   "cell_type": "code",
   "execution_count": 64,
   "id": "70bcc2cc-24f8-458e-861c-45f5d6013a5c",
   "metadata": {
    "scrolled": true
   },
   "outputs": [
    {
     "data": {
      "text/html": [
       "<div>\n",
       "<style scoped>\n",
       "    .dataframe tbody tr th:only-of-type {\n",
       "        vertical-align: middle;\n",
       "    }\n",
       "\n",
       "    .dataframe tbody tr th {\n",
       "        vertical-align: top;\n",
       "    }\n",
       "\n",
       "    .dataframe thead th {\n",
       "        text-align: right;\n",
       "    }\n",
       "</style>\n",
       "<table border=\"1\" class=\"dataframe\">\n",
       "  <thead>\n",
       "    <tr style=\"text-align: right;\">\n",
       "      <th></th>\n",
       "      <th>Date</th>\n",
       "      <th>Sales</th>\n",
       "    </tr>\n",
       "  </thead>\n",
       "  <tbody>\n",
       "    <tr>\n",
       "      <th>0</th>\n",
       "      <td>37987</td>\n",
       "      <td>5629</td>\n",
       "    </tr>\n",
       "    <tr>\n",
       "      <th>1</th>\n",
       "      <td>38018</td>\n",
       "      <td>5898</td>\n",
       "    </tr>\n",
       "    <tr>\n",
       "      <th>2</th>\n",
       "      <td>38047</td>\n",
       "      <td>7045</td>\n",
       "    </tr>\n",
       "    <tr>\n",
       "      <th>3</th>\n",
       "      <td>38078</td>\n",
       "      <td>7094</td>\n",
       "    </tr>\n",
       "    <tr>\n",
       "      <th>4</th>\n",
       "      <td>38108</td>\n",
       "      <td>7333</td>\n",
       "    </tr>\n",
       "    <tr>\n",
       "      <th>...</th>\n",
       "      <td>...</td>\n",
       "      <td>...</td>\n",
       "    </tr>\n",
       "    <tr>\n",
       "      <th>103</th>\n",
       "      <td>41122</td>\n",
       "      <td>11163</td>\n",
       "    </tr>\n",
       "    <tr>\n",
       "      <th>104</th>\n",
       "      <td>41153</td>\n",
       "      <td>9532</td>\n",
       "    </tr>\n",
       "    <tr>\n",
       "      <th>105</th>\n",
       "      <td>41183</td>\n",
       "      <td>10754</td>\n",
       "    </tr>\n",
       "    <tr>\n",
       "      <th>106</th>\n",
       "      <td>41214</td>\n",
       "      <td>10953</td>\n",
       "    </tr>\n",
       "    <tr>\n",
       "      <th>107</th>\n",
       "      <td>41244</td>\n",
       "      <td>11922</td>\n",
       "    </tr>\n",
       "  </tbody>\n",
       "</table>\n",
       "<p>108 rows × 2 columns</p>\n",
       "</div>"
      ],
      "text/plain": [
       "      Date  Sales\n",
       "0    37987   5629\n",
       "1    38018   5898\n",
       "2    38047   7045\n",
       "3    38078   7094\n",
       "4    38108   7333\n",
       "..     ...    ...\n",
       "103  41122  11163\n",
       "104  41153   9532\n",
       "105  41183  10754\n",
       "106  41214  10953\n",
       "107  41244  11922\n",
       "\n",
       "[108 rows x 2 columns]"
      ]
     },
     "execution_count": 64,
     "metadata": {},
     "output_type": "execute_result"
    }
   ],
   "source": [
    "dataset = pd.read_excel(\"eforcast_data/datasetalcohol - stata.xlsx\")\n",
    "dataset"
   ]
  },
  {
   "cell_type": "code",
   "execution_count": 54,
   "id": "38b16970-5b33-44d6-a8a0-f9cabbc6c56e",
   "metadata": {},
   "outputs": [
    {
     "data": {
      "text/html": [
       "<div>\n",
       "<style scoped>\n",
       "    .dataframe tbody tr th:only-of-type {\n",
       "        vertical-align: middle;\n",
       "    }\n",
       "\n",
       "    .dataframe tbody tr th {\n",
       "        vertical-align: top;\n",
       "    }\n",
       "\n",
       "    .dataframe thead th {\n",
       "        text-align: right;\n",
       "    }\n",
       "</style>\n",
       "<table border=\"1\" class=\"dataframe\">\n",
       "  <thead>\n",
       "    <tr style=\"text-align: right;\">\n",
       "      <th></th>\n",
       "      <th>Date</th>\n",
       "      <th>Sales</th>\n",
       "    </tr>\n",
       "  </thead>\n",
       "  <tbody>\n",
       "    <tr>\n",
       "      <th>0</th>\n",
       "      <td>37987</td>\n",
       "      <td>5629</td>\n",
       "    </tr>\n",
       "    <tr>\n",
       "      <th>1</th>\n",
       "      <td>38018</td>\n",
       "      <td>5898</td>\n",
       "    </tr>\n",
       "    <tr>\n",
       "      <th>2</th>\n",
       "      <td>38047</td>\n",
       "      <td>7045</td>\n",
       "    </tr>\n",
       "    <tr>\n",
       "      <th>3</th>\n",
       "      <td>38078</td>\n",
       "      <td>7094</td>\n",
       "    </tr>\n",
       "    <tr>\n",
       "      <th>4</th>\n",
       "      <td>38108</td>\n",
       "      <td>7333</td>\n",
       "    </tr>\n",
       "    <tr>\n",
       "      <th>...</th>\n",
       "      <td>...</td>\n",
       "      <td>...</td>\n",
       "    </tr>\n",
       "    <tr>\n",
       "      <th>103</th>\n",
       "      <td>41122</td>\n",
       "      <td>11163</td>\n",
       "    </tr>\n",
       "    <tr>\n",
       "      <th>104</th>\n",
       "      <td>41153</td>\n",
       "      <td>9532</td>\n",
       "    </tr>\n",
       "    <tr>\n",
       "      <th>105</th>\n",
       "      <td>41183</td>\n",
       "      <td>10754</td>\n",
       "    </tr>\n",
       "    <tr>\n",
       "      <th>106</th>\n",
       "      <td>41214</td>\n",
       "      <td>10953</td>\n",
       "    </tr>\n",
       "    <tr>\n",
       "      <th>107</th>\n",
       "      <td>41244</td>\n",
       "      <td>11922</td>\n",
       "    </tr>\n",
       "  </tbody>\n",
       "</table>\n",
       "<p>108 rows × 2 columns</p>\n",
       "</div>"
      ],
      "text/plain": [
       "      Date  Sales\n",
       "0    37987   5629\n",
       "1    38018   5898\n",
       "2    38047   7045\n",
       "3    38078   7094\n",
       "4    38108   7333\n",
       "..     ...    ...\n",
       "103  41122  11163\n",
       "104  41153   9532\n",
       "105  41183  10754\n",
       "106  41214  10953\n",
       "107  41244  11922\n",
       "\n",
       "[108 rows x 2 columns]"
      ]
     },
     "execution_count": 54,
     "metadata": {},
     "output_type": "execute_result"
    }
   ],
   "source": [
    "dataset = dataset.sort_values(by='Date', ascending=True)\n",
    "dataset"
   ]
  },
  {
   "cell_type": "code",
   "execution_count": 55,
   "id": "357037d2-8005-4b21-8e25-bf1b116decec",
   "metadata": {},
   "outputs": [
    {
     "name": "stdout",
     "output_type": "stream",
     "text": [
      "Column Date has 0.0% missing data\n",
      "Column Sales has 0.0% missing data\n"
     ]
    }
   ],
   "source": [
    "for col in dataset.columns:\n",
    "    missing_data = dataset[col].isna().sum()\n",
    "    missing_per = missing_data /len(dataset)*100\n",
    "    print(f\"Column {col} has {missing_per}% missing data\")"
   ]
  },
  {
   "cell_type": "code",
   "execution_count": 56,
   "id": "0feac105-57fb-4823-b233-8656b46fff81",
   "metadata": {},
   "outputs": [
    {
     "data": {
      "text/plain": [
       "<Axes: >"
      ]
     },
     "execution_count": 56,
     "metadata": {},
     "output_type": "execute_result"
    },
    {
     "data": {
      "image/png": "[encoded data removed]",
      "text/plain": [
       "<Figure size 400x400 with 1 Axes>"
      ]
     },
     "metadata": {},
     "output_type": "display_data"
    }
   ],
   "source": [
    "import seaborn as sns\n",
    "plt.figure(figsize = (4,4))\n",
    "sns.heatmap(dataset.isna(), cbar = False, cmap = \"Blues\", yticklabels = False )"
   ]
  },
  {
   "cell_type": "markdown",
   "id": "9f8e44e7-13d7-4576-96d8-b54257d1ed1c",
   "metadata": {},
   "source": [
    "#### DATA VISUALIZATION"
   ]
  },
  {
   "cell_type": "code",
   "execution_count": 62,
   "id": "51956034-1c4b-43fc-82d4-4b68358a545b",
   "metadata": {},
   "outputs": [
    {
     "data": {
      "image/png": "[encoded data removed]",
      "text/plain": [
       "<Figure size 1200x600 with 1 Axes>"
      ]
     },
     "metadata": {},
     "output_type": "display_data"
    }
   ],
   "source": [
    "dataset[\"Date\"] = pd.to_datetime(dataset[\"Date\"], origin=\"1899-12-30\", unit=\"D\")\n",
    "import matplotlib.pyplot as plt\n",
    "\n",
    "plt.figure(figsize=(12, 6))\n",
    "plt.plot(dataset[\"Date\"], dataset[\"Sales\"], color=\"r\", label=\"Sales\")\n",
    "plt.xlabel(\"Date\")\n",
    "plt.ylabel(\"Sales\")\n",
    "plt.title(\"Sales Trend Over Time\")\n",
    "plt.xticks(rotation=90)\n",
    "plt.legend()\n",
    "plt.grid()\n",
    "plt.show()"
   ]
  },
  {
   "cell_type": "markdown",
   "id": "ae83b3fa-d0d1-4151-954f-7a1a35d847a3",
   "metadata": {},
   "source": [
    "### MOVING AVERAGE "
   ]
  },
  {
   "cell_type": "code",
   "execution_count": 34,
   "id": "a69d47c4-bedf-410c-8b5d-323960a5127d",
   "metadata": {},
   "outputs": [
    {
     "name": "stdout",
     "output_type": "stream",
     "text": [
      "Optimal window size: 13\n",
      "MAE: 836.5401\n",
      "MSE: 1104727.3525\n",
      "MAPE: 0.0954\n"
     ]
    }
   ],
   "source": [
    "import pandas as pd\n",
    "import numpy as np\n",
    "import matplotlib.pyplot as plt\n",
    "\n",
    "# Đọc dữ liệu từ file Excel\n",
    "data = pd.read_excel(\"eforcast_data/datasetalcohol - stata.xlsx\")\n",
    "df = pd.DataFrame(data)\n",
    "\n",
    "def moving_average_forecast(series, window_size):\n",
    "    forecasts = [None] * window_size\n",
    "    rolling_means = series.rolling(window=window_size).mean().iloc[window_size - 1:-1]\n",
    "    forecasts.extend(rolling_means.tolist())\n",
    "    return forecasts\n",
    "\n",
    "def compute_error_metrics(actual, predicted):\n",
    "    differences = actual - predicted\n",
    "    mae = differences.abs().mean()\n",
    "    mse = (differences ** 2).mean()\n",
    "    mape = (differences.abs() / actual).mean()\n",
    "    return mae, mse, mape\n",
    "\n",
    "window_range = range(2, 101)\n",
    "metrics_summary = {}\n",
    "\n",
    "for w in window_range:\n",
    "    df['Predicted'] = moving_average_forecast(df['Sales'], w)\n",
    "    valid_data = df.dropna(subset=['Predicted'])\n",
    "    mae, mse, mape = compute_error_metrics(valid_data['Sales'], valid_data['Predicted'])\n",
    "    metrics_summary[w] = {'MAE': mae, 'MSE': mse, 'MAPE': mape}\n",
    "\n",
    "lowest_mae = min(metrics_summary.values(), key=lambda x: x['MAE'])['MAE']\n",
    "lowest_mse = min(metrics_summary.values(), key=lambda x: x['MSE'])['MSE']\n",
    "lowest_mape = min(metrics_summary.values(), key=lambda x: x['MAPE'])['MAPE']\n",
    "\n",
    "for w in metrics_summary:\n",
    "    metrics_summary[w]['Combined_Score'] = (metrics_summary[w]['MAE'] / lowest_mae +\n",
    "                                           metrics_summary[w]['MSE'] / lowest_mse +\n",
    "                                           metrics_summary[w]['MAPE'] / lowest_mape)\n",
    "\n",
    "optimal_window = min(metrics_summary, key=lambda x: metrics_summary[x]['Combined_Score'])\n",
    "optimal_results = metrics_summary[optimal_window]\n",
    "\n",
    "print(f\"Optimal window size: {optimal_window}\")\n",
    "print(f\"MAE: {optimal_results['MAE']:.4f}\")\n",
    "print(f\"MSE: {optimal_results['MSE']:.4f}\")\n",
    "print(f\"MAPE: {optimal_results['MAPE']:.4f}\")"
   ]
  },
  {
   "cell_type": "markdown",
   "id": "2819e835-d9d6-4993-adc8-7dbca721e1fc",
   "metadata": {},
   "source": [
    "### WEIGHTED MOVING AVERAGE"
   ]
  },
  {
   "cell_type": "code",
   "execution_count": 65,
   "id": "94a117cd-344c-4af7-bbf1-dec280449dcc",
   "metadata": {},
   "outputs": [
    {
     "name": "stdout",
     "output_type": "stream",
     "text": [
      "Forecast_2_2 [0.2, 0.8]:\n",
      "MAE: 927.8935\tMSE: 1636158.5693\tMAPE: 0.1114\n",
      "\n",
      "Forecast_2_4 [0.4, 0.6]:\n",
      "MAE: 957.6318\tMSE: 1557619.1802\tMAPE: 0.1151\n",
      "\n",
      "Forecast_3_16 [0.3, 0.1, 0.6]:\n",
      "MAE: 886.7507\tMSE: 1403678.7722\tMAPE: 0.1060\n",
      "\n",
      "Forecast_3_17 [0.3, 0.2, 0.5]:\n",
      "MAE: 911.6846\tMSE: 1374998.9083\tMAPE: 0.1091\n",
      "\n",
      "Forecast_4_8 [0.1, 0.2, 0.1, 0.6]:\n",
      "MAE: 888.7013\tMSE: 1419285.5900\tMAPE: 0.1060\n",
      "\n",
      "Forecast_4_15 [0.1, 0.3, 0.2, 0.4]:\n",
      "MAE: 918.6323\tMSE: 1366769.9053\tMAPE: 0.1095\n",
      "\n",
      "Forecast_5_92 [0.3, 0.1, 0.1, 0.1, 0.4]:\n",
      "MAE: 851.0001\tMSE: 1333172.4811\tMAPE: 0.1012\n",
      "\n",
      "Forecast_5_62 [0.2, 0.1, 0.2, 0.1, 0.4]:\n",
      "MAE: 854.4895\tMSE: 1305860.0717\tMAPE: 0.1016\n",
      "\n"
     ]
    }
   ],
   "source": [
    "import pandas as pd\n",
    "import numpy as np\n",
    "from itertools import product\n",
    "\n",
    "data = pd.read_excel(\"eforcast_data/datasetalcoholforwma.xlsx\")\n",
    "df = pd.DataFrame(data)\n",
    "\n",
    "def calculate_weighted_forecast(series, weight_sets, window):\n",
    "    forecasts = {}\n",
    "    for idx, weights in enumerate(weight_sets):\n",
    "        forecast = [None]  \n",
    "        for i in range(1, len(series)):\n",
    "            if i < window:\n",
    "                available = series[:i]\n",
    "                sub_weights = np.array(weights[-i:])\n",
    "                sub_weights = sub_weights / sub_weights.sum()  # rescale lại cho tổng = 1\n",
    "                f_val = sum(available[j] * sub_weights[j] for j in range(i))\n",
    "            else:\n",
    "                available = series[i - window:i]\n",
    "                f_val = sum(available[j] * weights[j] for j in range(window))\n",
    "            forecast.append(f_val)\n",
    "        forecasts[f'Forecast_{window}_{idx+1}'] = forecast\n",
    "    return forecasts\n",
    "\n",
    "def generate_weight_sets(window):\n",
    "    valid_weights = []\n",
    "    for w in product([i / 10 for i in range(1, 10)], repeat=window):\n",
    "        if round(sum(w), 1) == 1.0:\n",
    "            valid_weights.append(list(w))\n",
    "    return valid_weights\n",
    "\n",
    "best_forecasts = []\n",
    "for window in range(2, 6):\n",
    "    weight_sets = generate_weight_sets(window)\n",
    "    forecast_results = calculate_weighted_forecast(df['Sales'].values, weight_sets, window)\n",
    "    \n",
    "    temp_forecasts_df = pd.DataFrame(forecast_results)\n",
    "\n",
    "    metrics = []\n",
    "    for idx, key in enumerate(forecast_results.keys()):\n",
    "        forecast_values = temp_forecasts_df[key]\n",
    "\n",
    "        error = df['Sales'] - forecast_values\n",
    "        abs_error = error.abs()\n",
    "        squared_error = abs_error ** 2\n",
    "        percentage_error = abs_error / df['Sales']\n",
    "        \n",
    "        MAE = abs_error.mean()      \n",
    "        MSE = squared_error.mean() \n",
    "        MAPE = percentage_error.mean() \n",
    "        \n",
    "        metrics.append((key, weight_sets[idx], MAE, MSE, MAPE))\n",
    "    \n",
    "    df = pd.concat([df, temp_forecasts_df], axis=1)\n",
    "    \n",
    "    min_MAE = min(metrics, key=lambda x: x[2])\n",
    "    min_MSE = min(metrics, key=lambda x: x[3])\n",
    "    min_MAPE = min(metrics, key=lambda x: x[4])\n",
    "    \n",
    "    best_forecasts.extend([min_MAE, min_MSE, min_MAPE])\n",
    "\n",
    "unique_best_forecasts = list({x[0]: x for x in best_forecasts}.values())\n",
    "\n",
    "for key, weights, MAE, MSE, MAPE in unique_best_forecasts:\n",
    "    print(f\"{key} {weights}:\")\n",
    "    print(f\"MAE: {MAE:.4f}\\tMSE: {MSE:.4f}\\tMAPE: {MAPE:.4f}\\n\")\n"
   ]
  },
  {
   "cell_type": "code",
   "execution_count": null,
   "id": "9cc11d86-d509-488c-910c-af8fcbca16f4",
   "metadata": {},
   "outputs": [],
   "source": []
  }
 ],
 "metadata": {
  "kernelspec": {
   "display_name": "Python 3 (ipykernel)",
   "language": "python",
   "name": "python3"
  },
  "language_info": {
   "codemirror_mode": {
    "name": "ipython",
    "version": 3
   },
   "file_extension": ".py",
   "mimetype": "text/x-python",
   "name": "python",
   "nbconvert_exporter": "python",
   "pygments_lexer": "ipython3",
   "version": "3.12.7"
  }
 },
 "nbformat": 4,
 "nbformat_minor": 5
}
